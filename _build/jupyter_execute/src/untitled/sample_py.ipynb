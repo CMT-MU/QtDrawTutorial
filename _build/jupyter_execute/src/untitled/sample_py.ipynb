{
 "cells": [
  {
   "cell_type": "markdown",
   "id": "7f9cc245",
   "metadata": {
    "tags": []
   },
   "source": [
    "# サンプル"
   ]
  },
  {
   "cell_type": "markdown",
   "id": "519dea0f",
   "metadata": {},
   "source": [
    "## 一体のグリーン関数\n",
    "\n",
    "We introduce a Green’s function with imaginary arguments in time and frequency.\n",
    "This has no physical meaning but a mere mathematical trick to make calculations easier (to give another example of this: in Minkowski spacetime we take advantage of a similiar substitution).\n",
    "\n",
    "The so-called imaginary-frequency (Matsubara) Green's functions are defined as follows: \n",
    "\n",
    "$$\n",
    "G_{ij}(\\tau-\\tau') = -\\langle T_\\tau [c_i(\\tau){c}^\\dagger_j(\\tau')]\\rangle,\n",
    "$$"
   ]
  },
  {
   "cell_type": "markdown",
   "id": "02ee517c",
   "metadata": {},
   "source": [
    "## Singular value expansion and basis functions\n",
    "\n",
    "The singular value expnasion of the kernel reads {cite:p}`Shinaoka:2017ix`\n",
    "\n",
    "$$\n",
    "K^\\mathrm{L}(\\tau, \\omega) = \\sum_{l=0}^\\infty U_l(\\tau) S_l V_l(\\omega),\n",
    "$$\n",
    "\n",
    "for $\\omega \\in [-\\wmax, \\wmax]$ with $\\wmax$ (>0) being a cut-off frequency."
   ]
  },
  {
   "cell_type": "code",
   "execution_count": null,
   "id": "b1396636",
   "metadata": {},
   "outputs": [],
   "source": [
    "import numpy as np"
   ]
  }
 ],
 "metadata": {
  "jupytext": {
   "formats": "ipynb,md:myst"
  },
  "kernelspec": {
   "display_name": "Python 3 (ipykernel)",
   "language": "python",
   "name": "python3"
  },
  "language_info": {
   "codemirror_mode": {
    "name": "ipython",
    "version": 3
   },
   "file_extension": ".py",
   "mimetype": "text/x-python",
   "name": "python",
   "nbconvert_exporter": "python",
   "pygments_lexer": "ipython3",
   "version": "3.7.11"
  }
 },
 "nbformat": 4,
 "nbformat_minor": 5
}